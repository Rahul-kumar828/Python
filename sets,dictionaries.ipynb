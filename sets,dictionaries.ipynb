{
 "cells": [
  {
   "cell_type": "markdown",
   "id": "cfe5be66-58c1-4b2d-b085-f2ea815d4296",
   "metadata": {},
   "source": [
    "## Sets"
   ]
  },
  {
   "cell_type": "markdown",
   "id": "5b9bc09a-84c2-4803-8176-a24cab7a3189",
   "metadata": {},
   "source": [
    "#### A set is a unordered collection data type that is iterable, mutable and has no duplicate elements.\n",
    "#### Python set class represents the mathematicals notion of a set. This is based on a data  staructure knon as hash table."
   ]
  },
  {
   "cell_type": "code",
   "execution_count": 2,
   "id": "88318af9-6b07-40fd-8b84-42b30c907250",
   "metadata": {},
   "outputs": [
    {
     "name": "stdout",
     "output_type": "stream",
     "text": [
      "set()\n",
      "<class 'set'>\n"
     ]
    }
   ],
   "source": [
    "## Defining an empty set\n",
    "set_var=set()\n",
    "print(set_var)\n",
    "print(type(set_var))"
   ]
  },
  {
   "cell_type": "code",
   "execution_count": 6,
   "id": "a00d7ab2-e88e-4e0e-97d9-252e7119d438",
   "metadata": {},
   "outputs": [
    {
     "data": {
      "text/plain": [
       "{1, 2, 3, 4, 5}"
      ]
     },
     "execution_count": 6,
     "metadata": {},
     "output_type": "execute_result"
    }
   ],
   "source": [
    "set_var={1,2,3,4,5}\n",
    "set_var"
   ]
  },
  {
   "cell_type": "code",
   "execution_count": 7,
   "id": "9fd41d51-8205-4a68-9a62-d2d29a68117c",
   "metadata": {},
   "outputs": [],
   "source": [
    "## inbild function of set\n",
    "set_var.add(6)"
   ]
  },
  {
   "cell_type": "code",
   "execution_count": 8,
   "id": "2eb540ea-1175-4840-a65e-d8f38b6296b1",
   "metadata": {},
   "outputs": [
    {
     "data": {
      "text/plain": [
       "{1, 2, 3, 4, 5, 6}"
      ]
     },
     "execution_count": 8,
     "metadata": {},
     "output_type": "execute_result"
    }
   ],
   "source": [
    "set_var"
   ]
  },
  {
   "cell_type": "code",
   "execution_count": 12,
   "id": "782168fb-bafc-4cd0-a3f7-4a678bdff08c",
   "metadata": {},
   "outputs": [
    {
     "data": {
      "text/plain": [
       "{'yadav'}"
      ]
     },
     "execution_count": 12,
     "metadata": {},
     "output_type": "execute_result"
    }
   ],
   "source": [
    "## difference in set\n",
    "set1={\"rahul\",\"kumar\",\"yadav\"}\n",
    "set2={\"rahul\",\"kumar\"}\n",
    "set1.difference(set2)"
   ]
  },
  {
   "cell_type": "code",
   "execution_count": 13,
   "id": "e355f15c-3a95-443b-a84f-8e9237044482",
   "metadata": {},
   "outputs": [
    {
     "data": {
      "text/plain": [
       "{'kumar', 'rahul', 'yadav'}"
      ]
     },
     "execution_count": 13,
     "metadata": {},
     "output_type": "execute_result"
    }
   ],
   "source": [
    "set1"
   ]
  },
  {
   "cell_type": "code",
   "execution_count": 23,
   "id": "920b5ff1-db78-4e4f-a076-10fe39eedcd7",
   "metadata": {},
   "outputs": [
    {
     "name": "stdout",
     "output_type": "stream",
     "text": [
      "set()\n"
     ]
    }
   ],
   "source": [
    "set1.difference_update(set2)\n",
    "print(set1)"
   ]
  },
  {
   "cell_type": "markdown",
   "id": "49884cb6-4a50-4800-acd2-fb2632788d19",
   "metadata": {},
   "source": [
    "## Dictonaries\n",
    "#### dictonaries also use the same notation to defins the set but if the notation is empty then is is set{} of if the notation ia availabe in key value pair then it calle the dictonaries\n",
    "#### like {1:2,3:4}"
   ]
  },
  {
   "cell_type": "code",
   "execution_count": 24,
   "id": "0440efbd-dba3-4114-8967-1d1b3735ef78",
   "metadata": {},
   "outputs": [],
   "source": [
    "disc={}"
   ]
  },
  {
   "cell_type": "code",
   "execution_count": 25,
   "id": "7d2d5179-094e-415d-a60b-5b00eb5d5f0c",
   "metadata": {},
   "outputs": [
    {
     "data": {
      "text/plain": [
       "dict"
      ]
     },
     "execution_count": 25,
     "metadata": {},
     "output_type": "execute_result"
    }
   ],
   "source": [
    "type(disc)"
   ]
  },
  {
   "cell_type": "code",
   "execution_count": 27,
   "id": "b31a13b9-42f5-4f12-b614-7a33a5a48ea9",
   "metadata": {},
   "outputs": [
    {
     "data": {
      "text/plain": [
       "dict"
      ]
     },
     "execution_count": 27,
     "metadata": {},
     "output_type": "execute_result"
    }
   ],
   "source": [
    "disc_exp={1:2,2:3,3:4,4:5,5:6}\n",
    "type(disc_exp)"
   ]
  },
  {
   "cell_type": "code",
   "execution_count": 28,
   "id": "4fb3ba8d-ff22-4cb3-b54a-ce6d22c9f096",
   "metadata": {},
   "outputs": [
    {
     "data": {
      "text/plain": [
       "2"
      ]
     },
     "execution_count": 28,
     "metadata": {},
     "output_type": "execute_result"
    }
   ],
   "source": [
    "## access the item values bases onn keys\n",
    "disc_exp[1]"
   ]
  },
  {
   "cell_type": "code",
   "execution_count": 31,
   "id": "12af5f0c-d63a-4031-a7b0-1adf8cc2998d",
   "metadata": {},
   "outputs": [
    {
     "name": "stdout",
     "output_type": "stream",
     "text": [
      "1\n",
      "2\n",
      "3\n",
      "4\n",
      "5\n"
     ]
    }
   ],
   "source": [
    "## loop through the disc key\n",
    "for x in disc_exp:\n",
    "   print(x)"
   ]
  },
  {
   "cell_type": "code",
   "execution_count": 32,
   "id": "98c57b64-3159-43de-9bd5-0b5c78f2dc90",
   "metadata": {},
   "outputs": [
    {
     "name": "stdout",
     "output_type": "stream",
     "text": [
      "2\n",
      "3\n",
      "4\n",
      "5\n",
      "6\n"
     ]
    }
   ],
   "source": [
    "for x in disc_exp:\n",
    "   print(disc_exp[x])"
   ]
  },
  {
   "cell_type": "code",
   "execution_count": 33,
   "id": "93ffe9b2-b5bf-4627-9c22-b673b10a0bfd",
   "metadata": {},
   "outputs": [
    {
     "name": "stdout",
     "output_type": "stream",
     "text": [
      "2\n",
      "3\n",
      "4\n",
      "5\n",
      "6\n"
     ]
    }
   ],
   "source": [
    "## access the item values bases on values\n",
    "for x in disc_exp.values():\n",
    "   print(x)"
   ]
  },
  {
   "cell_type": "code",
   "execution_count": 34,
   "id": "40a568d9-0d26-411c-b25c-919220ff7a55",
   "metadata": {},
   "outputs": [
    {
     "name": "stdout",
     "output_type": "stream",
     "text": [
      "(1, 2)\n",
      "(2, 3)\n",
      "(3, 4)\n",
      "(4, 5)\n",
      "(5, 6)\n"
     ]
    }
   ],
   "source": [
    "## we can also check both keys and values\n",
    "for x in disc_exp.items():\n",
    "   print(x)"
   ]
  },
  {
   "cell_type": "code",
   "execution_count": 35,
   "id": "0e2b3ec9-146c-4fca-b802-064774149fbf",
   "metadata": {},
   "outputs": [],
   "source": [
    "## adding item in disctionary\n",
    "disc_exp[7]=8"
   ]
  },
  {
   "cell_type": "code",
   "execution_count": 36,
   "id": "38e7096d-cb24-40dd-b4bb-9adc179189cf",
   "metadata": {},
   "outputs": [
    {
     "data": {
      "text/plain": [
       "{1: 2, 2: 3, 3: 4, 4: 5, 5: 6, 7: 8}"
      ]
     },
     "execution_count": 36,
     "metadata": {},
     "output_type": "execute_result"
    }
   ],
   "source": [
    "disc_exp"
   ]
  },
  {
   "cell_type": "markdown",
   "id": "36a0e1ad-2785-4cfa-b94d-160e582564f8",
   "metadata": {},
   "source": [
    "## Nested Dictionary"
   ]
  },
  {
   "cell_type": "code",
   "execution_count": 37,
   "id": "089aff61-8e60-41c3-b182-70b7b952718a",
   "metadata": {},
   "outputs": [],
   "source": [
    "car1_model={'audi':1}\n",
    "car2_model={'bnw':2}\n",
    "car3_model={'scorioN':3}"
   ]
  },
  {
   "cell_type": "code",
   "execution_count": 38,
   "id": "55cb43e0-470c-4c5f-a2be-e9835f03771d",
   "metadata": {},
   "outputs": [],
   "source": [
    "car_type={'car1':car1_model,'car2':car2_model,'car3':car3_model}"
   ]
  },
  {
   "cell_type": "code",
   "execution_count": 39,
   "id": "a8c8f62e-811e-4040-a054-ce85db9109d6",
   "metadata": {},
   "outputs": [
    {
     "data": {
      "text/plain": [
       "{'car1': {'audi': 1}, 'car2': {'bnw': 2}, 'car3': {'scorioN': 3}}"
      ]
     },
     "execution_count": 39,
     "metadata": {},
     "output_type": "execute_result"
    }
   ],
   "source": [
    "car_type"
   ]
  },
  {
   "cell_type": "code",
   "execution_count": 40,
   "id": "a0e6179c-08ca-4ffa-8d94-6a6e0db2f45a",
   "metadata": {},
   "outputs": [
    {
     "name": "stdout",
     "output_type": "stream",
     "text": [
      "{'audi': 1}\n"
     ]
    }
   ],
   "source": [
    "print(car_type['car1'])"
   ]
  },
  {
   "cell_type": "code",
   "execution_count": 43,
   "id": "f3439851-0ccc-4c66-92e9-cc028e1a0bf8",
   "metadata": {},
   "outputs": [
    {
     "name": "stdout",
     "output_type": "stream",
     "text": [
      "2\n"
     ]
    }
   ],
   "source": [
    "print(car_type['car2']['bnw'])"
   ]
  },
  {
   "cell_type": "markdown",
   "id": "42e504d5-b563-4247-8748-6695c85fd4dd",
   "metadata": {},
   "source": [
    "## Tuples"
   ]
  },
  {
   "cell_type": "code",
   "execution_count": 44,
   "id": "7d463540-6dfc-4dab-99cc-cc9d99e456b6",
   "metadata": {},
   "outputs": [],
   "source": [
    "##craete a empty tuples\n",
    "## tuple is defined in () this bracket small bracket\n",
    "my_tuple=tuple()"
   ]
  },
  {
   "cell_type": "code",
   "execution_count": 45,
   "id": "30864a95-5b93-4085-adf2-3a6a72b17c41",
   "metadata": {},
   "outputs": [
    {
     "data": {
      "text/plain": [
       "tuple"
      ]
     },
     "execution_count": 45,
     "metadata": {},
     "output_type": "execute_result"
    }
   ],
   "source": [
    "type(my_tuple)"
   ]
  },
  {
   "cell_type": "code",
   "execution_count": 46,
   "id": "2373327e-0e77-4ca6-91ed-65728f8bfd7e",
   "metadata": {},
   "outputs": [
    {
     "data": {
      "text/plain": [
       "tuple"
      ]
     },
     "execution_count": 46,
     "metadata": {},
     "output_type": "execute_result"
    }
   ],
   "source": [
    "my_tuple1=()\n",
    "type(my_tuple1)"
   ]
  },
  {
   "cell_type": "code",
   "execution_count": 47,
   "id": "10adb6c4-1d41-49fe-af52-6c7b0f1b7703",
   "metadata": {},
   "outputs": [],
   "source": [
    "my_tuple=('rahul','kumar','yadav')"
   ]
  },
  {
   "cell_type": "code",
   "execution_count": 48,
   "id": "99e63225-eb07-409e-94c5-d8251662d533",
   "metadata": {},
   "outputs": [
    {
     "data": {
      "text/plain": [
       "tuple"
      ]
     },
     "execution_count": 48,
     "metadata": {},
     "output_type": "execute_result"
    }
   ],
   "source": [
    "type(my_tuple)"
   ]
  },
  {
   "cell_type": "code",
   "execution_count": 50,
   "id": "9a9577cc-8560-4218-9c42-f0a1589b4619",
   "metadata": {},
   "outputs": [
    {
     "data": {
      "text/plain": [
       "'rahul'"
      ]
     },
     "execution_count": 50,
     "metadata": {},
     "output_type": "execute_result"
    }
   ],
   "source": [
    "my_tuple[0]"
   ]
  },
  {
   "cell_type": "code",
   "execution_count": 54,
   "id": "6fff0d70-cca6-4864-81bb-fa9802b4fdf3",
   "metadata": {},
   "outputs": [],
   "source": [
    "##in tuple elements can't be channged but we can assigned a new item in it"
   ]
  },
  {
   "cell_type": "code",
   "execution_count": 52,
   "id": "8e4e4c49-7a3c-41bc-9a65-6d1a867b692d",
   "metadata": {},
   "outputs": [
    {
     "data": {
      "text/plain": [
       "1"
      ]
     },
     "execution_count": 52,
     "metadata": {},
     "output_type": "execute_result"
    }
   ],
   "source": [
    "## inbuild function of tuple\n",
    "my_tuple.count('rahul')"
   ]
  },
  {
   "cell_type": "code",
   "execution_count": 53,
   "id": "c9101b51-84c1-4ff3-86a6-88fdeb97094e",
   "metadata": {},
   "outputs": [
    {
     "data": {
      "text/plain": [
       "0"
      ]
     },
     "execution_count": 53,
     "metadata": {},
     "output_type": "execute_result"
    }
   ],
   "source": [
    "my_tuple.count(1)"
   ]
  },
  {
   "cell_type": "code",
   "execution_count": 55,
   "id": "17366003-67a8-425e-8f9d-5b92263b181b",
   "metadata": {},
   "outputs": [],
   "source": [
    "## how can you change the value of tuple\n",
    "my_tuple=('kumar','roy')"
   ]
  },
  {
   "cell_type": "code",
   "execution_count": 56,
   "id": "706342c1-d815-4037-85ee-8d7eb41150b8",
   "metadata": {},
   "outputs": [
    {
     "data": {
      "text/plain": [
       "('kumar', 'roy')"
      ]
     },
     "execution_count": 56,
     "metadata": {},
     "output_type": "execute_result"
    }
   ],
   "source": [
    "my_tuple"
   ]
  },
  {
   "cell_type": "code",
   "execution_count": 57,
   "id": "b6bac273-a11e-4a91-a560-e3932d25a41b",
   "metadata": {},
   "outputs": [
    {
     "data": {
      "text/plain": [
       "'kumar'"
      ]
     },
     "execution_count": 57,
     "metadata": {},
     "output_type": "execute_result"
    }
   ],
   "source": [
    "my_tuple[0]"
   ]
  },
  {
   "cell_type": "code",
   "execution_count": 59,
   "id": "fde7ed0f-2e08-464b-a7ad-8a48ad85bab5",
   "metadata": {},
   "outputs": [
    {
     "data": {
      "text/plain": [
       "'roy'"
      ]
     },
     "execution_count": 59,
     "metadata": {},
     "output_type": "execute_result"
    }
   ],
   "source": [
    "my_tuple[1]"
   ]
  },
  {
   "cell_type": "code",
   "execution_count": 60,
   "id": "d01d04d8-fcad-4714-8036-3e4dd39923e7",
   "metadata": {},
   "outputs": [],
   "source": [
    "## tuple is someting like const , we can use where the definition of the item is required only for one time"
   ]
  },
  {
   "cell_type": "code",
   "execution_count": 61,
   "id": "05bb1f27-ce12-44cc-883c-ab2cda6a7eb7",
   "metadata": {},
   "outputs": [
    {
     "data": {
      "text/plain": [
       "0"
      ]
     },
     "execution_count": 61,
     "metadata": {},
     "output_type": "execute_result"
    }
   ],
   "source": [
    "my_tuple.index('kumar')"
   ]
  },
  {
   "cell_type": "code",
   "execution_count": 63,
   "id": "202928bd-851b-4193-a62b-8bf63f02f6c7",
   "metadata": {},
   "outputs": [
    {
     "data": {
      "text/plain": [
       "1"
      ]
     },
     "execution_count": 63,
     "metadata": {},
     "output_type": "execute_result"
    }
   ],
   "source": [
    "my_tuple.index('roy')"
   ]
  },
  {
   "cell_type": "code",
   "execution_count": null,
   "id": "7a5ad397-1294-4e9b-91ad-221c1694fe93",
   "metadata": {},
   "outputs": [],
   "source": []
  }
 ],
 "metadata": {
  "kernelspec": {
   "display_name": "Python 3 (ipykernel)",
   "language": "python",
   "name": "python3"
  },
  "language_info": {
   "codemirror_mode": {
    "name": "ipython",
    "version": 3
   },
   "file_extension": ".py",
   "mimetype": "text/x-python",
   "name": "python",
   "nbconvert_exporter": "python",
   "pygments_lexer": "ipython3",
   "version": "3.11.7"
  }
 },
 "nbformat": 4,
 "nbformat_minor": 5
}
