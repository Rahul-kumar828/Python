{
 "cells": [
  {
   "cell_type": "code",
   "execution_count": 1,
   "id": "7d90f7d6-8f3e-4599-9085-ee0d438602d4",
   "metadata": {},
   "outputs": [],
   "source": [
    "#This is my first pyhton code\n",
    "'''\n",
    "Hello my name is Rahul\n",
    "\n",
    "'''"
   ]
  },
  {
   "cell_type": "code",
   "execution_count": null,
   "id": "95cbad78-54ee-48b8-84cf-dcba0568b2c3",
   "metadata": {},
   "outputs": [],
   "source": []
  }
 ],
 "metadata": {
  "kernelspec": {
   "display_name": "Python 3 (ipykernel)",
   "language": "python",
   "name": "python3"
  },
  "language_info": {
   "codemirror_mode": {
    "name": "ipython",
    "version": 3
   },
   "file_extension": ".py",
   "mimetype": "text/x-python",
   "name": "python",
   "nbconvert_exporter": "python",
   "pygments_lexer": "ipython3",
   "version": "3.11.7"
  }
 },
 "nbformat": 4,
 "nbformat_minor": 5
}
