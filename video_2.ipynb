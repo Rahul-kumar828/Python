{
 "cells": [
  {
   "cell_type": "code",
   "execution_count": 12,
   "id": "2033f8b8-18be-4bbe-9380-73ac779ac597",
   "metadata": {},
   "outputs": [
    {
     "data": {
      "text/plain": [
       "False"
      ]
     },
     "execution_count": 12,
     "metadata": {},
     "output_type": "execute_result"
    }
   ],
   "source": [
    "bool(1)"
   ]
  },
  {
   "cell_type": "code",
   "execution_count": 13,
   "id": "a024c088-2c4e-44bd-831c-82f25bdbbb46",
   "metadata": {},
   "outputs": [
    {
     "data": {
      "text/plain": [
       "False"
      ]
     },
     "execution_count": 13,
     "metadata": {},
     "output_type": "execute_result"
    }
   ],
   "source": [
    "bool()"
   ]
  },
  {
   "cell_type": "code",
   "execution_count": 14,
   "id": "36004fe6-1a24-4f60-8ccd-06b02bcabdfa",
   "metadata": {},
   "outputs": [
    {
     "data": {
      "text/plain": [
       "False"
      ]
     },
     "execution_count": 14,
     "metadata": {},
     "output_type": "execute_result"
    }
   ],
   "source": [
    "bool(0)"
   ]
  },
  {
   "cell_type": "code",
   "execution_count": 15,
   "id": "8f8cf11f-88d0-45a3-afc2-feb7a965ad29",
   "metadata": {},
   "outputs": [
    {
     "data": {
      "text/plain": [
       "False"
      ]
     },
     "execution_count": 15,
     "metadata": {},
     "output_type": "execute_result"
    }
   ],
   "source": [
    "False"
   ]
  },
  {
   "cell_type": "code",
   "execution_count": 16,
   "id": "36aa87ed-41ca-47a3-8b85-81f628ec7bdb",
   "metadata": {},
   "outputs": [
    {
     "data": {
      "text/plain": [
       "True"
      ]
     },
     "execution_count": 16,
     "metadata": {},
     "output_type": "execute_result"
    }
   ],
   "source": [
    "True"
   ]
  },
  {
   "cell_type": "code",
   "execution_count": 17,
   "id": "e1556473-dbd3-466e-a6e2-edb27da1df5c",
   "metadata": {},
   "outputs": [
    {
     "data": {
      "text/plain": [
       "bool"
      ]
     },
     "execution_count": 17,
     "metadata": {},
     "output_type": "execute_result"
    }
   ],
   "source": [
    "type(True)"
   ]
  },
  {
   "cell_type": "code",
   "execution_count": 18,
   "id": "77d276bf-a2c3-4387-b109-3f58542a9cc8",
   "metadata": {},
   "outputs": [
    {
     "data": {
      "text/plain": [
       "bool"
      ]
     },
     "execution_count": 18,
     "metadata": {},
     "output_type": "execute_result"
    }
   ],
   "source": [
    "type(False)"
   ]
  },
  {
   "cell_type": "markdown",
   "id": "1a440a2a-d300-470c-b88c-c52664ebd586",
   "metadata": {},
   "source": [
    "# How we can apply different types of inbuild boolean function"
   ]
  },
  {
   "cell_type": "code",
   "execution_count": 19,
   "id": "7cda85b7-a5ae-4145-9df4-99a0bf9ff14f",
   "metadata": {},
   "outputs": [],
   "source": [
    "my_str1=\"Rahul\""
   ]
  },
  {
   "cell_type": "code",
   "execution_count": 20,
   "id": "8c7bbe25-e20a-410a-af3d-d50e8c964bd1",
   "metadata": {},
   "outputs": [
    {
     "name": "stdout",
     "output_type": "stream",
     "text": [
      "Rahul Kumar\n"
     ]
    }
   ],
   "source": [
    "print(my_str1)"
   ]
  },
  {
   "cell_type": "code",
   "execution_count": 104,
   "id": "64aed24c-7807-4fa1-9fda-71b58f795649",
   "metadata": {},
   "outputs": [
    {
     "name": "stdout",
     "output_type": "stream",
     "text": [
      "False\n",
      "False\n",
      "False\n",
      "True\n",
      "False\n",
      "False\n",
      "False\n",
      "False\n",
      "True\n",
      "True\n",
      "True\n"
     ]
    }
   ],
   "source": [
    "my_str=\"Rahul kumar\"\n",
    "my_str2=\"12345\"\n",
    "my_str3=\" \"\n",
    "print(my_str.isalnum()) #check if all char are numbers (alphanumric it will check only it contain alpha numric or not)\n",
    "print(my_str.isalpha()) #check if all char in the string are alphabetic\n",
    "print(my_str.isdigit()) #test if string contains digits(only digit)\n",
    "print(my_str2.isdigit()) #test if string contains digits(only digit no septial chararer no alphabet only numeric value)\n",
    "print(my_str.istitle()) #test if string contains title words (if i will use both the word with capitle letter then it will return true because tiel mean all the woord hava capital letter in start)\n",
    "print(my_str.isupper()) #test if string contains upper case (it will return true with string \"RAHUL KUMAR\")\n",
    "print(my_str.islower()) #test if string contains lower case (it will return true with string \"rahul kumar\")\n",
    "print(my_str.isspace()) #test if string contains spaces (it will returun true if all the character in the string is white spapce)\n",
    "print(my_str3.isspace()) #it is returning true because it contains empty space\n",
    "print(my_str.endswith('r')) #it will return true because the required string is containg r in the end of the string\n",
    "print(my_str.startswith('R')) #it is returning true thhe required sting is contains R as a capital letter"
   ]
  },
  {
   "cell_type": "markdown",
   "id": "155cebab-deec-4a73-81c7-429e56dc1848",
   "metadata": {},
   "source": [
    "## Bollean and Logical Operators"
   ]
  },
  {
   "cell_type": "code",
   "execution_count": 105,
   "id": "44b86a98-11cd-426e-961b-fc7308300c42",
   "metadata": {},
   "outputs": [
    {
     "data": {
      "text/plain": [
       "1"
      ]
     },
     "execution_count": 105,
     "metadata": {},
     "output_type": "execute_result"
    }
   ],
   "source": [
    " 1 and 1"
   ]
  },
  {
   "cell_type": "code",
   "execution_count": 107,
   "id": "a5e9998a-d3d8-4c5c-b922-be62637add94",
   "metadata": {},
   "outputs": [
    {
     "data": {
      "text/plain": [
       "True"
      ]
     },
     "execution_count": 107,
     "metadata": {},
     "output_type": "execute_result"
    }
   ],
   "source": [
    "True and True"
   ]
  },
  {
   "cell_type": "code",
   "execution_count": 108,
   "id": "98812da9-8f9c-44e3-904a-b2c1ab6193cb",
   "metadata": {},
   "outputs": [
    {
     "data": {
      "text/plain": [
       "False"
      ]
     },
     "execution_count": 108,
     "metadata": {},
     "output_type": "execute_result"
    }
   ],
   "source": [
    "False and False"
   ]
  },
  {
   "cell_type": "markdown",
   "id": "b0157ed2-2f98-4b29-93b5-cfb0ff05a6b5",
   "metadata": {},
   "source": [
    "True or False"
   ]
  },
  {
   "cell_type": "code",
   "execution_count": 110,
   "id": "8d6d3d96-211d-455a-9bc7-16b9d513478c",
   "metadata": {},
   "outputs": [
    {
     "data": {
      "text/plain": [
       "True"
      ]
     },
     "execution_count": 110,
     "metadata": {},
     "output_type": "execute_result"
    }
   ],
   "source": [
    "False or True"
   ]
  },
  {
   "cell_type": "code",
   "execution_count": 111,
   "id": "a2134f97-082e-4e59-9e44-e8752b423bd5",
   "metadata": {},
   "outputs": [
    {
     "data": {
      "text/plain": [
       "False"
      ]
     },
     "execution_count": 111,
     "metadata": {},
     "output_type": "execute_result"
    }
   ],
   "source": [
    "False or False"
   ]
  },
  {
   "cell_type": "code",
   "execution_count": 112,
   "id": "4b3a5fbd-5d87-445c-ae3b-863ed06bcf13",
   "metadata": {},
   "outputs": [
    {
     "data": {
      "text/plain": [
       "False"
      ]
     },
     "execution_count": 112,
     "metadata": {},
     "output_type": "execute_result"
    }
   ],
   "source": [
    "False and False"
   ]
  },
  {
   "cell_type": "code",
   "execution_count": 134,
   "id": "828f71e6-4cdd-441d-8dd9-3d70122c7d44",
   "metadata": {},
   "outputs": [
    {
     "data": {
      "text/plain": [
       "True"
      ]
     },
     "execution_count": 134,
     "metadata": {},
     "output_type": "execute_result"
    }
   ],
   "source": [
    "str_example=\"Hello World\"\n",
    "my_str=\"Rahul\"\n",
    "my_str.isalpha()  or str_example.isnumeric()"
   ]
  },
  {
   "cell_type": "markdown",
   "id": "c938da8d-014e-40f0-bfa2-34f45a9904e1",
   "metadata": {},
   "source": [
    "# Lists\n",
    "##### A list is a data staructure in a python that is mutable, or changeable, ordered sequence of elements. Each element or value that is inside of a list is called an item. \n",
    "##### Just as strings are defined as characters between quotes, lists are defined by having values between square bracket [ ] ."
   ]
  },
  {
   "cell_type": "code",
   "execution_count": 1,
   "id": "00ae3f91-bc96-4bf8-9f4e-3a04c8183b7f",
   "metadata": {},
   "outputs": [
    {
     "data": {
      "text/plain": [
       "list"
      ]
     },
     "execution_count": 1,
     "metadata": {},
     "output_type": "execute_result"
    }
   ],
   "source": [
    "type([])"
   ]
  },
  {
   "cell_type": "code",
   "execution_count": 4,
   "id": "e355caa3-2f30-4ce2-86d4-d5349193f819",
   "metadata": {},
   "outputs": [
    {
     "data": {
      "text/plain": [
       "list"
      ]
     },
     "execution_count": 4,
     "metadata": {},
     "output_type": "execute_result"
    }
   ],
   "source": [
    "list_example=[]\n",
    "type(list_example)"
   ]
  },
  {
   "cell_type": "code",
   "execution_count": 6,
   "id": "aedd7703-62b6-4413-939d-d3b751589746",
   "metadata": {},
   "outputs": [
    {
     "data": {
      "text/plain": [
       "list"
      ]
     },
     "execution_count": 6,
     "metadata": {},
     "output_type": "execute_result"
    }
   ],
   "source": [
    "# you can create a list by also using a inbuild function called list\n",
    "lst=list()\n",
    "type(lst)"
   ]
  },
  {
   "cell_type": "code",
   "execution_count": 21,
   "id": "1888c902-6820-4fce-94e8-9bffcc76ca4f",
   "metadata": {},
   "outputs": [
    {
     "data": {
      "text/plain": [
       "list"
      ]
     },
     "execution_count": 21,
     "metadata": {},
     "output_type": "execute_result"
    }
   ],
   "source": [
    "# if you want to manually add value then you can use the ',' comma seperated value.\n",
    "lst = ['Rahul', 'kumar', 1, 2, 3]\n",
    "type(lst)"
   ]
  },
  {
   "cell_type": "markdown",
   "id": "d192cf7a-53c3-437b-9395-804f8f0f4637",
   "metadata": {},
   "source": [
    "## Append"
   ]
  },
  {
   "cell_type": "code",
   "execution_count": 36,
   "id": "74d88add-d5ae-4681-b75d-4ee879d73330",
   "metadata": {},
   "outputs": [],
   "source": [
    "# Append is used to add elements in the list\n",
    "# if i run this function 5 times then it will add 'test' , meaning append it 5 times in the list as a new item.\n",
    "# it will add the element in the last of the list\n",
    "lst.append('test')"
   ]
  },
  {
   "cell_type": "code",
   "execution_count": 37,
   "id": "ff226877-c413-4236-b07c-fc78fa4693e1",
   "metadata": {},
   "outputs": [
    {
     "data": {
      "text/plain": [
       "['Rahul', 'kumar', 1, 2, 3, 'test', 'test']"
      ]
     },
     "execution_count": 37,
     "metadata": {},
     "output_type": "execute_result"
    }
   ],
   "source": [
    "lst"
   ]
  },
  {
   "cell_type": "code",
   "execution_count": 38,
   "id": "986ffcde-4e44-4e1b-b844-4a46b5ac709e",
   "metadata": {},
   "outputs": [
    {
     "data": {
      "text/plain": [
       "7"
      ]
     },
     "execution_count": 38,
     "metadata": {},
     "output_type": "execute_result"
    }
   ],
   "source": [
    "len(lst)"
   ]
  },
  {
   "cell_type": "code",
   "execution_count": 39,
   "id": "a3f75b27-e05c-4ff0-8aa8-cd27670fd10f",
   "metadata": {},
   "outputs": [
    {
     "data": {
      "text/plain": [
       "11"
      ]
     },
     "execution_count": 39,
     "metadata": {},
     "output_type": "execute_result"
    }
   ],
   "source": [
    "len(\"Rahul kumar\")"
   ]
  },
  {
   "cell_type": "markdown",
   "id": "3ec9a35e-ccbf-461f-87cc-55666ce374cf",
   "metadata": {},
   "source": [
    " ## Insert"
   ]
  },
  {
   "cell_type": "code",
   "execution_count": 40,
   "id": "e8489b75-49be-41ce-bf5e-2187a54a76c2",
   "metadata": {},
   "outputs": [],
   "source": [
    "## it provide the facility to insert the item in the list in the specific order\n",
    "lst.insert(3,'yadav')"
   ]
  },
  {
   "cell_type": "code",
   "execution_count": 41,
   "id": "6a293ef2-c027-4e59-a983-611eda3f0d59",
   "metadata": {},
   "outputs": [
    {
     "data": {
      "text/plain": [
       "['Rahul', 'kumar', 1, 'yadav', 2, 3, 'test', 'test']"
      ]
     },
     "execution_count": 41,
     "metadata": {},
     "output_type": "execute_result"
    }
   ],
   "source": [
    "lst"
   ]
  },
  {
   "cell_type": "code",
   "execution_count": 42,
   "id": "da456821-9a45-4b85-8d35-2734f84a0b20",
   "metadata": {},
   "outputs": [],
   "source": [
    "lst.insert(0,'roy')"
   ]
  },
  {
   "cell_type": "code",
   "execution_count": 43,
   "id": "0fd8e660-83a9-4776-8f49-8c13b029ec0a",
   "metadata": {},
   "outputs": [
    {
     "data": {
      "text/plain": [
       "['roy', 'Rahul', 'kumar', 1, 'yadav', 2, 3, 'test', 'test']"
      ]
     },
     "execution_count": 43,
     "metadata": {},
     "output_type": "execute_result"
    }
   ],
   "source": [
    "lst"
   ]
  },
  {
   "cell_type": "code",
   "execution_count": 44,
   "id": "66d689c3-a52e-4edc-a839-ed382588ad79",
   "metadata": {},
   "outputs": [
    {
     "data": {
      "text/plain": [
       "'roy'"
      ]
     },
     "execution_count": 44,
     "metadata": {},
     "output_type": "execute_result"
    }
   ],
   "source": [
    "lst[0]"
   ]
  },
  {
   "cell_type": "code",
   "execution_count": 45,
   "id": "95c6b60d-4e82-4636-b183-3a291174e888",
   "metadata": {},
   "outputs": [
    {
     "data": {
      "text/plain": [
       "'yadav'"
      ]
     },
     "execution_count": 45,
     "metadata": {},
     "output_type": "execute_result"
    }
   ],
   "source": [
    "lst[4]"
   ]
  },
  {
   "cell_type": "code",
   "execution_count": 48,
   "id": "c37c9db0-162d-4d64-9cf4-d8d9ef523afd",
   "metadata": {},
   "outputs": [
    {
     "data": {
      "text/plain": [
       "3"
      ]
     },
     "execution_count": 48,
     "metadata": {},
     "output_type": "execute_result"
    }
   ],
   "source": [
    "lst[6]"
   ]
  },
  {
   "cell_type": "code",
   "execution_count": 49,
   "id": "dda8c2e9-1653-4bfb-a0e7-814c9b980ba4",
   "metadata": {},
   "outputs": [
    {
     "data": {
      "text/plain": [
       "['kumar', 1, 'yadav', 2, 3, 'test', 'test']"
      ]
     },
     "execution_count": 49,
     "metadata": {},
     "output_type": "execute_result"
    }
   ],
   "source": [
    "lst[2:]\n"
   ]
  },
  {
   "cell_type": "code",
   "execution_count": 50,
   "id": "9f388a4b-c7e6-4c7b-8b45-8e93b5768798",
   "metadata": {},
   "outputs": [
    {
     "data": {
      "text/plain": [
       "['roy', 'Rahul']"
      ]
     },
     "execution_count": 50,
     "metadata": {},
     "output_type": "execute_result"
    }
   ],
   "source": [
    "lst[0:2]"
   ]
  },
  {
   "cell_type": "code",
   "execution_count": 51,
   "id": "6daa70e5-0b0f-4e2b-a620-6c427b6b13f5",
   "metadata": {},
   "outputs": [
    {
     "data": {
      "text/plain": [
       "['roy', 'Rahul']"
      ]
     },
     "execution_count": 51,
     "metadata": {},
     "output_type": "execute_result"
    }
   ],
   "source": [
    "lst[:2]"
   ]
  },
  {
   "cell_type": "markdown",
   "id": "f26b1c87-c153-4db5-b6fb-aec5817f4ec7",
   "metadata": {},
   "source": [
    "## Extend Method"
   ]
  },
  {
   "cell_type": "code",
   "execution_count": 58,
   "id": "954f0e38-a825-4447-85fe-568c06243b37",
   "metadata": {},
   "outputs": [
    {
     "data": {
      "text/plain": [
       "[1, 2, 3, 4, 5, 6]"
      ]
     },
     "execution_count": 58,
     "metadata": {},
     "output_type": "execute_result"
    }
   ],
   "source": [
    "lst2=[1,2,3,4,5,6]\n",
    "lst2"
   ]
  },
  {
   "cell_type": "code",
   "execution_count": 61,
   "id": "d8646d49-73ec-4461-b445-799c158c9620",
   "metadata": {},
   "outputs": [],
   "source": [
    "lst2.extend([8,9])"
   ]
  },
  {
   "cell_type": "code",
   "execution_count": 62,
   "id": "e5f9ff59-81c0-411f-85dd-b8ac46244377",
   "metadata": {},
   "outputs": [
    {
     "data": {
      "text/plain": [
       "[1, 2, 3, 4, 5, 6, 8, 9]"
      ]
     },
     "execution_count": 62,
     "metadata": {},
     "output_type": "execute_result"
    }
   ],
   "source": [
    "lst2"
   ]
  },
  {
   "cell_type": "markdown",
   "id": "875bc266-e1dc-4c36-ac52-91e129f51895",
   "metadata": {},
   "source": [
    "## Various operations that we can perform in list"
   ]
  },
  {
   "cell_type": "code",
   "execution_count": 63,
   "id": "4efa592d-1a64-4698-97aa-b77d7d15d385",
   "metadata": {},
   "outputs": [
    {
     "data": {
      "text/plain": [
       "[4, 5, 6, 7]"
      ]
     },
     "execution_count": 63,
     "metadata": {},
     "output_type": "execute_result"
    }
   ],
   "source": [
    "lst=[4,5,6,7]\n",
    "lst"
   ]
  },
  {
   "cell_type": "code",
   "execution_count": 64,
   "id": "077dd074-4066-439f-8b85-f9ae21289efc",
   "metadata": {},
   "outputs": [
    {
     "data": {
      "text/plain": [
       "22"
      ]
     },
     "execution_count": 64,
     "metadata": {},
     "output_type": "execute_result"
    }
   ],
   "source": [
    "sum(lst)"
   ]
  },
  {
   "cell_type": "markdown",
   "id": "d9119988-5974-4fad-8779-f5550df25277",
   "metadata": {},
   "source": [
    "## Pop() method"
   ]
  },
  {
   "cell_type": "code",
   "execution_count": 68,
   "id": "28ffc525-15da-4913-8dec-81c836a29764",
   "metadata": {},
   "outputs": [
    {
     "data": {
      "text/plain": [
       "7"
      ]
     },
     "execution_count": 68,
     "metadata": {},
     "output_type": "execute_result"
    }
   ],
   "source": [
    "lst.pop()"
   ]
  },
  {
   "cell_type": "code",
   "execution_count": 69,
   "id": "9bfcf739-4760-4f03-b9c4-f20677d6c66f",
   "metadata": {},
   "outputs": [
    {
     "data": {
      "text/plain": [
       "[4, 5, 6]"
      ]
     },
     "execution_count": 69,
     "metadata": {},
     "output_type": "execute_result"
    }
   ],
   "source": [
    "lst"
   ]
  },
  {
   "cell_type": "code",
   "execution_count": 74,
   "id": "6af80aea-081e-478f-aa1e-6c565aa46bf3",
   "metadata": {},
   "outputs": [
    {
     "data": {
      "text/plain": [
       "4"
      ]
     },
     "execution_count": 74,
     "metadata": {},
     "output_type": "execute_result"
    }
   ],
   "source": [
    "## if i want to remove the last element then we can do it very simply without defining the index\n",
    "## if i want to remove the particular element then we can defind the pop with index\n",
    "lst.pop(0)"
   ]
  },
  {
   "cell_type": "code",
   "execution_count": 76,
   "id": "57522ab8-930f-49a1-aa48-ae2d93b1497a",
   "metadata": {},
   "outputs": [
    {
     "data": {
      "text/plain": [
       "[5, 6]"
      ]
     },
     "execution_count": 76,
     "metadata": {},
     "output_type": "execute_result"
    }
   ],
   "source": [
    "lst\n",
    "# here i am getting the [5,6] only becase first i reomoved the last element and now i removed the 0 index elemnt fomt the list"
   ]
  },
  {
   "cell_type": "markdown",
   "id": "06affe83-f819-4a9a-be31-b0a8d4a5007e",
   "metadata": {},
   "source": [
    "## count(): calculate the total occurrence of given element of list"
   ]
  },
  {
   "cell_type": "code",
   "execution_count": 77,
   "id": "9c7fae9f-dd94-4712-9f6f-c055f4f027fb",
   "metadata": {},
   "outputs": [],
   "source": [
    "lst=[1,1,2,3,3,3,4,4,4,4,5,5,5]element"
   ]
  },
  {
   "cell_type": "code",
   "execution_count": 78,
   "id": "69aa6172-36c3-4416-8872-5f07dc3be91e",
   "metadata": {},
   "outputs": [
    {
     "data": {
      "text/plain": [
       "[1, 1, 2, 3, 3, 3, 4, 4, 4, 4, 5, 5, 5]"
      ]
     },
     "execution_count": 78,
     "metadata": {},
     "output_type": "execute_result"
    }
   ],
   "source": [
    "lst"
   ]
  },
  {
   "cell_type": "code",
   "execution_count": 80,
   "id": "95158874-c623-42b7-a84d-7a30b321ffa4",
   "metadata": {},
   "outputs": [
    {
     "data": {
      "text/plain": [
       "2"
      ]
     },
     "execution_count": 80,
     "metadata": {},
     "output_type": "execute_result"
    }
   ],
   "source": [
    "lst.count(1)"
   ]
  },
  {
   "cell_type": "code",
   "execution_count": 81,
   "id": "4e31294e-4534-4aeb-8ed2-13ff636d9e7f",
   "metadata": {},
   "outputs": [
    {
     "data": {
      "text/plain": [
       "1"
      ]
     },
     "execution_count": 81,
     "metadata": {},
     "output_type": "execute_result"
    }
   ],
   "source": [
    "lst.count(2)"
   ]
  },
  {
   "cell_type": "code",
   "execution_count": 82,
   "id": "72b272ac-24f5-47b4-b771-b1355236723b",
   "metadata": {},
   "outputs": [
    {
     "data": {
      "text/plain": [
       "4"
      ]
     },
     "execution_count": 82,
     "metadata": {},
     "output_type": "execute_result"
    }
   ],
   "source": [
    "lst.count(4)"
   ]
  },
  {
   "cell_type": "code",
   "execution_count": 83,
   "id": "a883ee75-f2da-40c9-9158-8f83eaef5dca",
   "metadata": {},
   "outputs": [
    {
     "data": {
      "text/plain": [
       "3"
      ]
     },
     "execution_count": 83,
     "metadata": {},
     "output_type": "execute_result"
    }
   ],
   "source": [
    "lst.count(3)"
   ]
  },
  {
   "cell_type": "code",
   "execution_count": 84,
   "id": "6a424bf5-99c6-46ee-8fc3-85d631ddc1e6",
   "metadata": {},
   "outputs": [
    {
     "data": {
      "text/plain": [
       "3"
      ]
     },
     "execution_count": 84,
     "metadata": {},
     "output_type": "execute_result"
    }
   ],
   "source": [
    "lst.count(5)"
   ]
  },
  {
   "cell_type": "code",
   "execution_count": 85,
   "id": "c64d9056-f3d8-4936-93e6-9b84230b68b6",
   "metadata": {},
   "outputs": [
    {
     "data": {
      "text/plain": [
       "13"
      ]
     },
     "execution_count": 85,
     "metadata": {},
     "output_type": "execute_result"
    }
   ],
   "source": [
    "len(lst)"
   ]
  },
  {
   "cell_type": "code",
   "execution_count": 86,
   "id": "906d8666-dffd-4e22-a13e-76a5ef1ab77c",
   "metadata": {},
   "outputs": [
    {
     "data": {
      "text/plain": [
       "3"
      ]
     },
     "execution_count": 86,
     "metadata": {},
     "output_type": "execute_result"
    }
   ],
   "source": [
    "lst.index(3)"
   ]
  },
  {
   "cell_type": "code",
   "execution_count": 89,
   "id": "8aa90f44-1113-4132-85b2-744754b2c7bd",
   "metadata": {},
   "outputs": [
    {
     "data": {
      "text/plain": [
       "10"
      ]
     },
     "execution_count": 89,
     "metadata": {},
     "output_type": "execute_result"
    }
   ],
   "source": [
    "lst.index(5) #return the index of the item 5 from the list"
   ]
  },
  {
   "cell_type": "code",
   "execution_count": 90,
   "id": "c1efb3a0-c23a-4f27-b9ab-ec7b7297aedb",
   "metadata": {},
   "outputs": [
    {
     "data": {
      "text/plain": [
       "1"
      ]
     },
     "execution_count": 90,
     "metadata": {},
     "output_type": "execute_result"
    }
   ],
   "source": [
    "min(lst) # return the minimum value from the list"
   ]
  },
  {
   "cell_type": "code",
   "execution_count": 91,
   "id": "f38a2233-8e4a-4c2a-97f6-45fa33024342",
   "metadata": {},
   "outputs": [
    {
     "data": {
      "text/plain": [
       "5"
      ]
     },
     "execution_count": 91,
     "metadata": {},
     "output_type": "execute_result"
    }
   ],
   "source": [
    "max(lst) #return the maximum item fromt the list"
   ]
  },
  {
   "cell_type": "code",
   "execution_count": 97,
   "id": "d3a5e3ae-e498-4d70-9b0b-d4a05ac6c454",
   "metadata": {},
   "outputs": [
    {
     "data": {
      "text/plain": [
       "1"
      ]
     },
     "execution_count": 97,
     "metadata": {},
     "output_type": "execute_result"
    }
   ],
   "source": [
    "lst.index(1,1,3) #second one is the start index and the last one is the end index of the list"
   ]
  },
  {
   "cell_type": "markdown",
   "id": "f55e8026-432f-4f6d-b0a9-2a368546f515",
   "metadata": {},
   "source": []
  }
 ],
 "metadata": {
  "kernelspec": {
   "display_name": "Python 3 (ipykernel)",
   "language": "python",
   "name": "python3"
  },
  "language_info": {
   "codemirror_mode": {
    "name": "ipython",
    "version": 3
   },
   "file_extension": ".py",
   "mimetype": "text/x-python",
   "name": "python",
   "nbconvert_exporter": "python",
   "pygments_lexer": "ipython3",
   "version": "3.11.7"
  }
 },
 "nbformat": 4,
 "nbformat_minor": 5
}
