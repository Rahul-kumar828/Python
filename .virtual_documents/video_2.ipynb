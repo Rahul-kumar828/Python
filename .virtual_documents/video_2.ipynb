bool(1)


bool()


bool(0)


False


True


type(True)


type(False)





my_str1="Rahul"


print(my_str1)


my_str="Rahul kumar"
my_str2="12345"
my_str3=" "
print(my_str.isalnum()) #check if all char are numbers (alphanumric it will check only it contain alpha numric or not)
print(my_str.isalpha()) #check if all char in the string are alphabetic
print(my_str.isdigit()) #test if string contains digits(only digit)
print(my_str2.isdigit()) #test if string contains digits(only digit no septial chararer no alphabet only numeric value)
print(my_str.istitle()) #test if string contains title words (if i will use both the word with capitle letter then it will return true because tiel mean all the woord hava capital letter in start)
print(my_str.isupper()) #test if string contains upper case (it will return true with string "RAHUL KUMAR")
print(my_str.islower()) #test if string contains lower case (it will return true with string "rahul kumar")
print(my_str.isspace()) #test if string contains spaces (it will returun true if all the character in the string is white spapce)
print(my_str3.isspace()) #it is returning true because it contains empty space
print(my_str.endswith('r')) #it will return true because the required string is containg r in the end of the string
print(my_str.startswith('R')) #it is returning true thhe required sting is contains R as a capital letter





 1 and 1


True and True


False and False





False or True


False or False


False and False


str_example="Hello World"
my_str="Rahul"
my_str.isalpha()  or str_example.isnumeric()





type([])


list_example=[]
type(list_example)


# you can create a list by also using a inbuild function called list
lst=list()
type(lst)


# if you want to manually add value then you can use the ',' comma seperated value.
lst = ['Rahul', 'kumar', 1, 2, 3]
type(lst)





# Append is used to add elements in the list
# if i run this function 5 times then it will add 'test' , meaning append it 5 times in the list as a new item.
# it will add the element in the last of the list
lst.append('test')


lst


len(lst)


len("Rahul kumar")





## it provide the facility to insert the item in the list in the specific order
lst.insert(3,'yadav')


lst


lst.insert(0,'roy')


lst


lst[0]


lst[4]


lst[6]


lst[2:]



lst[0:2]


lst[:2]





lst2=[1,2,3,4,5,6]
lst2


lst2.extend([8,9])


lst2





lst=[4,5,6,7]
lst


sum(lst)





lst.pop()


lst


## if i want to remove the last element then we can do it very simply without defining the index
## if i want to remove the particular element then we can defind the pop with index
lst.pop(0)


lst
# here i am getting the [5,6] only becase first i reomoved the last element and now i removed the 0 index elemnt fomt the list





lst=[1,1,2,3,3,3,4,4,4,4,5,5,5]element


lst


lst.count(1)


lst.count(2)


lst.count(4)


lst.count(3)


lst.count(5)


len(lst)


lst.index(3)


lst.index(5) #return the index of the item 5 from the list


min(lst) # return the minimum value from the list


max(lst) #return the maximum item fromt the list


lst.index(1,1,3) #second one is the start index and the last one is the end index of the list



