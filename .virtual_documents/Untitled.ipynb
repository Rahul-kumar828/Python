


1+1


2*3


10%2


type(True)





# syntax
# var_ name=value

a=10
b='Rahul'
print(a*b)





c=10
d=20


print(c*d)
print(c/d)
print(c%d)
print((c*d)+(a/c/d)) # this will follow the BODMAS rule





first_name='Rahul'
last_name='Kumar'
print("My first name is {} and the last name is {}".format(first_name,last_name))


print("My first name is {first} and the last name is {last}.".format(last=last_name,first=first_name))


len('Rahul')


type(4.0)


type(['1',2,3,4,5])



