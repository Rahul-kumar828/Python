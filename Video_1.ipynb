{
 "cells": [
  {
   "cell_type": "markdown",
   "id": "ae180d1f-6bbf-4c8d-8d99-d7f81070b598",
   "metadata": {},
   "source": [
    "# This is my pthon tutorial"
   ]
  },
  {
   "cell_type": "code",
   "execution_count": 3,
   "id": "bad46eaf-95ca-47e6-b05d-e79edceed428",
   "metadata": {},
   "outputs": [
    {
     "data": {
      "text/plain": [
       "2"
      ]
     },
     "execution_count": 3,
     "metadata": {},
     "output_type": "execute_result"
    }
   ],
   "source": [
    "1+1"
   ]
  },
  {
   "cell_type": "code",
   "execution_count": 4,
   "id": "95cbad78-54ee-48b8-84cf-dcba0568b2c3",
   "metadata": {},
   "outputs": [
    {
     "data": {
      "text/plain": [
       "6"
      ]
     },
     "execution_count": 4,
     "metadata": {},
     "output_type": "execute_result"
    }
   ],
   "source": [
    "2*3"
   ]
  },
  {
   "cell_type": "code",
   "execution_count": 5,
   "id": "86bae2dd-5925-4a4d-bec3-0c2ebf4c8f9c",
   "metadata": {},
   "outputs": [
    {
     "data": {
      "text/plain": [
       "0"
      ]
     },
     "execution_count": 5,
     "metadata": {},
     "output_type": "execute_result"
    }
   ],
   "source": [
    "10%2"
   ]
  },
  {
   "cell_type": "code",
   "execution_count": 12,
   "id": "5c86e82c-28e7-4568-95da-97309e0247ab",
   "metadata": {},
   "outputs": [
    {
     "data": {
      "text/plain": [
       "bool"
      ]
     },
     "execution_count": 12,
     "metadata": {},
     "output_type": "execute_result"
    }
   ],
   "source": [
    "type(True)"
   ]
  },
  {
   "cell_type": "markdown",
   "id": "0276446b-dca0-402c-a13f-bdd32660a8ee",
   "metadata": {},
   "source": [
    "# Variable Assignment"
   ]
  },
  {
   "cell_type": "code",
   "execution_count": 15,
   "id": "54f7ec81-9676-418f-bdc8-102fb1847286",
   "metadata": {},
   "outputs": [
    {
     "name": "stdout",
     "output_type": "stream",
     "text": [
      "RahulRahulRahulRahulRahulRahulRahulRahulRahulRahul\n"
     ]
    }
   ],
   "source": [
    "# syntax\n",
    "# var_ name=value\n",
    "\n",
    "a=10\n",
    "b='Rahul'\n",
    "print(a*b)"
   ]
  },
  {
   "cell_type": "markdown",
   "id": "e61a1ee1-2dd1-478c-9ec3-f5e48a49b1df",
   "metadata": {},
   "source": [
    "## Mathematical operation with variables assignment"
   ]
  },
  {
   "cell_type": "code",
   "execution_count": 17,
   "id": "62e3a2b7-e681-4dc5-a3ca-01f4a5b6ac59",
   "metadata": {},
   "outputs": [],
   "source": [
    "c=10\n",
    "d=20"
   ]
  },
  {
   "cell_type": "code",
   "execution_count": 25,
   "id": "6433a637-1d56-4bf7-9a84-f300259ba9a1",
   "metadata": {},
   "outputs": [
    {
     "name": "stdout",
     "output_type": "stream",
     "text": [
      "200\n",
      "0.5\n",
      "10\n",
      "200.05\n"
     ]
    }
   ],
   "source": [
    "print(c*d)\n",
    "print(c/d)\n",
    "print(c%d)\n",
    "print((c*d)+(a/c/d)) # this will follow the BODMAS rule"
   ]
  },
  {
   "cell_type": "markdown",
   "id": "0bf874a5-2ca0-4225-b962-bf4cbeb1b58f",
   "metadata": {},
   "source": [
    "## various way of printing"
   ]
  },
  {
   "cell_type": "code",
   "execution_count": 32,
   "id": "c89286fa-c6b5-4d9d-8632-63e304267b04",
   "metadata": {},
   "outputs": [
    {
     "name": "stdout",
     "output_type": "stream",
     "text": [
      "My first name is Rahul and the last name is Kumar\n"
     ]
    }
   ],
   "source": [
    "first_name='Rahul'\n",
    "last_name='Kumar'\n",
    "print(\"My first name is {} and the last name is {}\".format(first_name,last_name))"
   ]
  },
  {
   "cell_type": "code",
   "execution_count": 38,
   "id": "77e3e0f6-72d5-4368-945c-d6b47a946cee",
   "metadata": {},
   "outputs": [
    {
     "name": "stdout",
     "output_type": "stream",
     "text": [
      "My first name is Rahul and the last name is Kumar.\n"
     ]
    }
   ],
   "source": [
    "print(\"My first name is {first} and the last name is {last}.\".format(last=last_name,first=first_name))"
   ]
  },
  {
   "cell_type": "code",
   "execution_count": 40,
   "id": "794bec24-28cd-4053-add9-3722fe1acbd9",
   "metadata": {},
   "outputs": [
    {
     "data": {
      "text/plain": [
       "5"
      ]
     },
     "execution_count": 40,
     "metadata": {},
     "output_type": "execute_result"
    }
   ],
   "source": [
    "len('Rahul')"
   ]
  },
  {
   "cell_type": "code",
   "execution_count": 42,
   "id": "26fb9150-f288-4bb2-a47f-0e0cab721423",
   "metadata": {},
   "outputs": [
    {
     "data": {
      "text/plain": [
       "float"
      ]
     },
     "execution_count": 42,
     "metadata": {},
     "output_type": "execute_result"
    }
   ],
   "source": [
    "type(4.0)"
   ]
  },
  {
   "cell_type": "code",
   "execution_count": 43,
   "id": "3a74f40f-2072-4c1a-8268-2e68287a9ab9",
   "metadata": {},
   "outputs": [
    {
     "data": {
      "text/plain": [
       "list"
      ]
     },
     "execution_count": 43,
     "metadata": {},
     "output_type": "execute_result"
    }
   ],
   "source": [
    "type(['1',2,3,4,5])"
   ]
  },
  {
   "cell_type": "code",
   "execution_count": null,
   "id": "194795eb-04f7-4709-af41-6ec4f98ebc32",
   "metadata": {},
   "outputs": [],
   "source": []
  }
 ],
 "metadata": {
  "kernelspec": {
   "display_name": "Python 3 (ipykernel)",
   "language": "python",
   "name": "python3"
  },
  "language_info": {
   "codemirror_mode": {
    "name": "ipython",
    "version": 3
   },
   "file_extension": ".py",
   "mimetype": "text/x-python",
   "name": "python",
   "nbconvert_exporter": "python",
   "pygments_lexer": "ipython3",
   "version": "3.11.7"
  }
 },
 "nbformat": 4,
 "nbformat_minor": 5
}
